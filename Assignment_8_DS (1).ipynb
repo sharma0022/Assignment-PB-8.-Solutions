{
 "cells": [
  {
   "cell_type": "markdown",
   "id": "284ead88",
   "metadata": {},
   "source": [
    "#  Assignment 8 Solutions"
   ]
  },
  {
   "cell_type": "raw",
   "id": "660d8226",
   "metadata": {},
   "source": [
    "Q.1. Is the Python Standard Library included with PyInputPlus?\n",
    "\n",
    "Ans: No, the Python Standard Library and PyInputPlus are separate libraries. The Python Standard      Library is a collection of modules that are included with Python and provide a wide range of      functionality. PyInputPlus is an external library that provides additional functionality for      input validation and error handling when getting input from the user. It can be installed        using pip."
   ]
  },
  {
   "cell_type": "raw",
   "id": "6ff35089",
   "metadata": {},
   "source": [
    "Q.2. Why is PyInputPlus commonly imported with import pyinputplus as pypi?\n",
    "\n",
    "Ans: PyInputPlus is commonly imported using the \"import pyinputplus as pypi\" syntax for a few          reasons:\n",
    "\n",
    "     Abbreviation: The \"as pypi\" syntax allows for the library to be imported under a shorter and      more convenient name, making it easier to type and less prone to typos.\n",
    "\n",
    "     Namespace Collision: In some cases, the name pyinputplus may already be in use or may            conflict with another module or variable in your code. Using an alias allows you to use a        different name for the library which can help to avoid naming conflicts.\n",
    "\n",
    "     Clarity: Using an alias can also make the code more readable. It is immediately obvious that      the functions and classes are coming from the PyInputPlus library, and it makes it clear          that they are not built-in Python functionality.\n",
    "\n",
    "     It is not mandatory to use an alias but it is a widely used practice to make the code more        clear and readable.\n",
    "\n"
   ]
  },
  {
   "cell_type": "raw",
   "id": "85e89e57",
   "metadata": {},
   "source": [
    "Q.3. How do you distinguish between inputInt() and inputFloat()?\n",
    "\n",
    "Ans: The 'inputInt()' and 'inputFloat()' functions are both part of the PyInputPlus library and        are used to get input from the user in the form of integers and floating point numbers,          respectively.\n",
    "\n",
    "    'inputInt()' function is used to get an integer input from the user. It prompts the user to        enter an integer value and returns the integer value entered by the user. It can also take        additional parameters like min, max, blank and limit to specify the range and limit of the        integer value that the user can enter.\n",
    "\n",
    "    'inputFloat()' function is used to get a floating point number input from the user. It            prompts the user to enter a floating point number value and returns the float value entered      by the user. It can also take additional parameters like min, max, blank, limit and rounding      to specify the range, limit and rounding of the float value that the user can enter.\n",
    "\n",
    "     We can distinguish between these two function by their name and their expected input and          output, 'inputInt()' function expects integer input and returns integer output, while           'inputFloat()' function expects float input and returns float output.\n",
    "\n",
    "\n",
    "\n",
    "\n"
   ]
  },
  {
   "cell_type": "raw",
   "id": "93f5f53a",
   "metadata": {},
   "source": [
    "Q.4. Using PyInputPlus, how do you ensure that the user enters a whole number between 0 and 99?\n",
    "\n",
    "Ans: You can use the 'inputInt()' function from the PyInputPlus library to ensure that the user        enters a whole number between 0 and 99. The 'inputInt()' function can take a few additional      parameters to specify the range and limit of the integer value that the user can enter.\n",
    "\n",
    "     for example: \n",
    "     \n",
    "    import pyinputplus as pypi\n",
    "\n",
    "    user_input = pypi.inputInt(prompt='Enter a whole number between 0 and 99: ', min=0, max=99)\n",
    "    print(user_input)\n",
    "    \n",
    "    This code will prompt the user to enter an integer value and it will only accept values           between 0 and 99 inclusive. If the user enters a value that is not within this range, the         function will re-prompt the user to enter a valid value. Once the user enters a valid value,     the function will return the integer value entered by the user.\n",
    "\n",
    "    We can also use the blank parameter to allow or not empty input, limit parameter to limit the     number of attempts user can input before the function raises an exception, and custom             validation function to check against custom validation.\n"
   ]
  },
  {
   "cell_type": "raw",
   "id": "a4f49568",
   "metadata": {},
   "source": [
    "Q.5. What is transferred to the keyword arguments allowRegexes and blockRegexes?\n",
    "\n",
    "Ans: The keyword arguments 'allowRegexes' and 'blockRegexes' are used to specify regular              expressions (regexes) that are used to match against the input. 'allowRegexes' is used to        match input that should be allowed, while 'blockRegexes' is used to match input that should      be blocked. These regular expressions are typically used in some sort of filtering or                      validation process. The specific behavior and use of these arguments will depend on the context in which they are being used."
   ]
  },
  {
   "cell_type": "raw",
   "id": "d53cbf41",
   "metadata": {},
   "source": [
    "Q.6. If a blank input is entered three times, what does inputStr(limit=3) do?\n",
    "\n",
    "Ans: If a blank input is entered three times, the 'inputStr(limit=3)' function will raise an            exception after the third blank input is entered, as the limit parameter specifies the            maximum number of attempts to get a non-blank input before raising an exception.\n",
    "\n"
   ]
  },
  {
   "cell_type": "raw",
   "id": "efe4174a",
   "metadata": {},
   "source": [
    "Q.7. If blank input is entered three times, what does inputStr(limit=3, default='hello') do?\n",
    "\n",
    "Ans: If the user enters blank input three times, the 'inputStr(limit=3, default='hello')'              function will return the default value 'hello'.\n",
    "\n"
   ]
  }
 ],
 "metadata": {
  "kernelspec": {
   "display_name": "Python 3 (ipykernel)",
   "language": "python",
   "name": "python3"
  },
  "language_info": {
   "codemirror_mode": {
    "name": "ipython",
    "version": 3
   },
   "file_extension": ".py",
   "mimetype": "text/x-python",
   "name": "python",
   "nbconvert_exporter": "python",
   "pygments_lexer": "ipython3",
   "version": "3.9.12"
  }
 },
 "nbformat": 4,
 "nbformat_minor": 5
}
